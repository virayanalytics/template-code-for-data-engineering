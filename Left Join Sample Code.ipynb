{
 "cells": [
  {
   "cell_type": "code",
   "execution_count": 20,
   "id": "14bfa98e",
   "metadata": {},
   "outputs": [],
   "source": [
    "import pandas as pd"
   ]
  },
  {
   "cell_type": "code",
   "execution_count": 21,
   "id": "bc643446",
   "metadata": {},
   "outputs": [],
   "source": [
    "# Read in tables a and b from excel files\n",
    "table_a = pd.read_excel('left_table.xlsx')\n",
    "table_b = pd.read_excel('right_table.xlsx')"
   ]
  },
  {
   "cell_type": "code",
   "execution_count": 22,
   "id": "c7bdf448",
   "metadata": {},
   "outputs": [
    {
     "data": {
      "text/html": [
       "<div>\n",
       "<style scoped>\n",
       "    .dataframe tbody tr th:only-of-type {\n",
       "        vertical-align: middle;\n",
       "    }\n",
       "\n",
       "    .dataframe tbody tr th {\n",
       "        vertical-align: top;\n",
       "    }\n",
       "\n",
       "    .dataframe thead th {\n",
       "        text-align: right;\n",
       "    }\n",
       "</style>\n",
       "<table border=\"1\" class=\"dataframe\">\n",
       "  <thead>\n",
       "    <tr style=\"text-align: right;\">\n",
       "      <th></th>\n",
       "      <th>patient_id</th>\n",
       "      <th>age</th>\n",
       "      <th>mass_kg</th>\n",
       "      <th>height_m</th>\n",
       "    </tr>\n",
       "  </thead>\n",
       "  <tbody>\n",
       "    <tr>\n",
       "      <th>0</th>\n",
       "      <td>pid_0001</td>\n",
       "      <td>29</td>\n",
       "      <td>52</td>\n",
       "      <td>1.63</td>\n",
       "    </tr>\n",
       "    <tr>\n",
       "      <th>1</th>\n",
       "      <td>pid_0002</td>\n",
       "      <td>26</td>\n",
       "      <td>44</td>\n",
       "      <td>1.62</td>\n",
       "    </tr>\n",
       "    <tr>\n",
       "      <th>2</th>\n",
       "      <td>pid_0003</td>\n",
       "      <td>70</td>\n",
       "      <td>56</td>\n",
       "      <td>1.67</td>\n",
       "    </tr>\n",
       "    <tr>\n",
       "      <th>3</th>\n",
       "      <td>pid_0004</td>\n",
       "      <td>41</td>\n",
       "      <td>75</td>\n",
       "      <td>1.77</td>\n",
       "    </tr>\n",
       "    <tr>\n",
       "      <th>4</th>\n",
       "      <td>pid_0005</td>\n",
       "      <td>30</td>\n",
       "      <td>37</td>\n",
       "      <td>1.67</td>\n",
       "    </tr>\n",
       "  </tbody>\n",
       "</table>\n",
       "</div>"
      ],
      "text/plain": [
       "  patient_id  age  mass_kg  height_m\n",
       "0   pid_0001   29       52      1.63\n",
       "1   pid_0002   26       44      1.62\n",
       "2   pid_0003   70       56      1.67\n",
       "3   pid_0004   41       75      1.77\n",
       "4   pid_0005   30       37      1.67"
      ]
     },
     "execution_count": 22,
     "metadata": {},
     "output_type": "execute_result"
    }
   ],
   "source": [
    "table_a.head()"
   ]
  },
  {
   "cell_type": "code",
   "execution_count": 23,
   "id": "dc63ccec",
   "metadata": {},
   "outputs": [
    {
     "data": {
      "text/html": [
       "<div>\n",
       "<style scoped>\n",
       "    .dataframe tbody tr th:only-of-type {\n",
       "        vertical-align: middle;\n",
       "    }\n",
       "\n",
       "    .dataframe tbody tr th {\n",
       "        vertical-align: top;\n",
       "    }\n",
       "\n",
       "    .dataframe thead th {\n",
       "        text-align: right;\n",
       "    }\n",
       "</style>\n",
       "<table border=\"1\" class=\"dataframe\">\n",
       "  <thead>\n",
       "    <tr style=\"text-align: right;\">\n",
       "      <th></th>\n",
       "      <th>patient_id</th>\n",
       "      <th>hematocrit_percent</th>\n",
       "    </tr>\n",
       "  </thead>\n",
       "  <tbody>\n",
       "    <tr>\n",
       "      <th>0</th>\n",
       "      <td>pid_0001</td>\n",
       "      <td>47</td>\n",
       "    </tr>\n",
       "    <tr>\n",
       "      <th>1</th>\n",
       "      <td>pid_0003</td>\n",
       "      <td>40</td>\n",
       "    </tr>\n",
       "    <tr>\n",
       "      <th>2</th>\n",
       "      <td>pid_0004</td>\n",
       "      <td>44</td>\n",
       "    </tr>\n",
       "    <tr>\n",
       "      <th>3</th>\n",
       "      <td>pid_0005</td>\n",
       "      <td>44</td>\n",
       "    </tr>\n",
       "    <tr>\n",
       "      <th>4</th>\n",
       "      <td>pid_0013</td>\n",
       "      <td>45</td>\n",
       "    </tr>\n",
       "  </tbody>\n",
       "</table>\n",
       "</div>"
      ],
      "text/plain": [
       "  patient_id  hematocrit_percent\n",
       "0   pid_0001                  47\n",
       "1   pid_0003                  40\n",
       "2   pid_0004                  44\n",
       "3   pid_0005                  44\n",
       "4   pid_0013                  45"
      ]
     },
     "execution_count": 23,
     "metadata": {},
     "output_type": "execute_result"
    }
   ],
   "source": [
    "table_b.head()"
   ]
  },
  {
   "cell_type": "code",
   "execution_count": 24,
   "id": "b0a64b21",
   "metadata": {},
   "outputs": [
    {
     "name": "stdout",
     "output_type": "stream",
     "text": [
      "table_a row count:  1000\n",
      "table_b row count:  572\n"
     ]
    }
   ],
   "source": [
    "# Get row count of table a and table b\n",
    "a_count = len(table_a)\n",
    "b_count = len(table_b)\n",
    "\n",
    "print(\"table_a row count: \", a_count)\n",
    "print(\"table_b row count: \", b_count)"
   ]
  },
  {
   "cell_type": "code",
   "execution_count": 25,
   "id": "ca026de4",
   "metadata": {},
   "outputs": [
    {
     "data": {
      "text/html": [
       "<div>\n",
       "<style scoped>\n",
       "    .dataframe tbody tr th:only-of-type {\n",
       "        vertical-align: middle;\n",
       "    }\n",
       "\n",
       "    .dataframe tbody tr th {\n",
       "        vertical-align: top;\n",
       "    }\n",
       "\n",
       "    .dataframe thead th {\n",
       "        text-align: right;\n",
       "    }\n",
       "</style>\n",
       "<table border=\"1\" class=\"dataframe\">\n",
       "  <thead>\n",
       "    <tr style=\"text-align: right;\">\n",
       "      <th></th>\n",
       "      <th>patient_id</th>\n",
       "      <th>age</th>\n",
       "      <th>mass_kg</th>\n",
       "      <th>height_m</th>\n",
       "      <th>hematocrit_percent</th>\n",
       "    </tr>\n",
       "  </thead>\n",
       "  <tbody>\n",
       "    <tr>\n",
       "      <th>0</th>\n",
       "      <td>pid_0001</td>\n",
       "      <td>29</td>\n",
       "      <td>52</td>\n",
       "      <td>1.63</td>\n",
       "      <td>47.0</td>\n",
       "    </tr>\n",
       "    <tr>\n",
       "      <th>1</th>\n",
       "      <td>pid_0002</td>\n",
       "      <td>26</td>\n",
       "      <td>44</td>\n",
       "      <td>1.62</td>\n",
       "      <td>NaN</td>\n",
       "    </tr>\n",
       "    <tr>\n",
       "      <th>2</th>\n",
       "      <td>pid_0003</td>\n",
       "      <td>70</td>\n",
       "      <td>56</td>\n",
       "      <td>1.67</td>\n",
       "      <td>40.0</td>\n",
       "    </tr>\n",
       "    <tr>\n",
       "      <th>3</th>\n",
       "      <td>pid_0004</td>\n",
       "      <td>41</td>\n",
       "      <td>75</td>\n",
       "      <td>1.77</td>\n",
       "      <td>44.0</td>\n",
       "    </tr>\n",
       "    <tr>\n",
       "      <th>4</th>\n",
       "      <td>pid_0005</td>\n",
       "      <td>30</td>\n",
       "      <td>37</td>\n",
       "      <td>1.67</td>\n",
       "      <td>44.0</td>\n",
       "    </tr>\n",
       "  </tbody>\n",
       "</table>\n",
       "</div>"
      ],
      "text/plain": [
       "  patient_id  age  mass_kg  height_m  hematocrit_percent\n",
       "0   pid_0001   29       52      1.63                47.0\n",
       "1   pid_0002   26       44      1.62                 NaN\n",
       "2   pid_0003   70       56      1.67                40.0\n",
       "3   pid_0004   41       75      1.77                44.0\n",
       "4   pid_0005   30       37      1.67                44.0"
      ]
     },
     "execution_count": 25,
     "metadata": {},
     "output_type": "execute_result"
    }
   ],
   "source": [
    "# Perform left join of table b onto table a\n",
    "joined_table = pd.merge(table_a, table_b, on='patient_id', how='left')\n",
    "\n",
    "joined_table.head()"
   ]
  },
  {
   "cell_type": "code",
   "execution_count": 26,
   "id": "ccab6f58",
   "metadata": {},
   "outputs": [
    {
     "name": "stdout",
     "output_type": "stream",
     "text": [
      "joined_table row count:  1000\n"
     ]
    }
   ],
   "source": [
    "# Get row count of the new joined table to ensure no duplicates were created\n",
    "joined_count = len(joined_table)\n",
    "\n",
    "print(\"joined_table row count: \", joined_count)"
   ]
  },
  {
   "cell_type": "code",
   "execution_count": 27,
   "id": "33056700",
   "metadata": {},
   "outputs": [
    {
     "name": "stdout",
     "output_type": "stream",
     "text": [
      "# of NaNs in hematocrit_percent:  428\n",
      "# of rows joined:  572\n"
     ]
    }
   ],
   "source": [
    "# Count the number of rows in the new table that did not join\n",
    "non_joined_count = len(joined_table[joined_table['hematocrit_percent'].isna()])\n",
    "\n",
    "print(\"# of NaNs in hematocrit_percent: \", non_joined_count)\n",
    "print(\"# of rows joined: \", joined_count - non_joined_count)"
   ]
  },
  {
   "cell_type": "code",
   "execution_count": 28,
   "id": "47442c3f",
   "metadata": {},
   "outputs": [
    {
     "name": "stdout",
     "output_type": "stream",
     "text": [
      "Table a row count: 1000\n",
      "Table b row count: 572\n",
      "Joined table row count: 1000\n",
      "Non-joined rows count: 428\n"
     ]
    }
   ],
   "source": [
    "# Output results\n",
    "\n",
    "print('Table a row count:', a_count)\n",
    "print('Table b row count:', b_count)\n",
    "print('Joined table row count:', joined_count)\n",
    "print('Non-joined rows count:', non_joined_count)"
   ]
  },
  {
   "cell_type": "code",
   "execution_count": 29,
   "id": "55ae421e",
   "metadata": {},
   "outputs": [
    {
     "name": "stdout",
     "output_type": "stream",
     "text": [
      "Filtered table row count: 572\n"
     ]
    },
    {
     "data": {
      "text/html": [
       "<div>\n",
       "<style scoped>\n",
       "    .dataframe tbody tr th:only-of-type {\n",
       "        vertical-align: middle;\n",
       "    }\n",
       "\n",
       "    .dataframe tbody tr th {\n",
       "        vertical-align: top;\n",
       "    }\n",
       "\n",
       "    .dataframe thead th {\n",
       "        text-align: right;\n",
       "    }\n",
       "</style>\n",
       "<table border=\"1\" class=\"dataframe\">\n",
       "  <thead>\n",
       "    <tr style=\"text-align: right;\">\n",
       "      <th></th>\n",
       "      <th>patient_id</th>\n",
       "      <th>age</th>\n",
       "      <th>mass_kg</th>\n",
       "      <th>height_m</th>\n",
       "      <th>hematocrit_percent</th>\n",
       "    </tr>\n",
       "  </thead>\n",
       "  <tbody>\n",
       "    <tr>\n",
       "      <th>0</th>\n",
       "      <td>pid_0001</td>\n",
       "      <td>29</td>\n",
       "      <td>52</td>\n",
       "      <td>1.63</td>\n",
       "      <td>47.0</td>\n",
       "    </tr>\n",
       "    <tr>\n",
       "      <th>2</th>\n",
       "      <td>pid_0003</td>\n",
       "      <td>70</td>\n",
       "      <td>56</td>\n",
       "      <td>1.67</td>\n",
       "      <td>40.0</td>\n",
       "    </tr>\n",
       "    <tr>\n",
       "      <th>3</th>\n",
       "      <td>pid_0004</td>\n",
       "      <td>41</td>\n",
       "      <td>75</td>\n",
       "      <td>1.77</td>\n",
       "      <td>44.0</td>\n",
       "    </tr>\n",
       "    <tr>\n",
       "      <th>4</th>\n",
       "      <td>pid_0005</td>\n",
       "      <td>30</td>\n",
       "      <td>37</td>\n",
       "      <td>1.67</td>\n",
       "      <td>44.0</td>\n",
       "    </tr>\n",
       "    <tr>\n",
       "      <th>12</th>\n",
       "      <td>pid_0013</td>\n",
       "      <td>27</td>\n",
       "      <td>29</td>\n",
       "      <td>1.64</td>\n",
       "      <td>45.0</td>\n",
       "    </tr>\n",
       "  </tbody>\n",
       "</table>\n",
       "</div>"
      ],
      "text/plain": [
       "   patient_id  age  mass_kg  height_m  hematocrit_percent\n",
       "0    pid_0001   29       52      1.63                47.0\n",
       "2    pid_0003   70       56      1.67                40.0\n",
       "3    pid_0004   41       75      1.77                44.0\n",
       "4    pid_0005   30       37      1.67                44.0\n",
       "12   pid_0013   27       29      1.64                45.0"
      ]
     },
     "execution_count": 29,
     "metadata": {},
     "output_type": "execute_result"
    }
   ],
   "source": [
    "# Filter out any rows that did not join\n",
    "filtered_table = joined_table.dropna(subset=['hematocrit_percent'])\n",
    "\n",
    "print('Filtered table row count:', len(filtered_table))\n",
    "\n",
    "filtered_table.head()"
   ]
  },
  {
   "cell_type": "code",
   "execution_count": null,
   "id": "d4d4a710",
   "metadata": {},
   "outputs": [],
   "source": [
    "# output joined data set\n",
    "filtered_table.to_excel('output.xlsx', sheet_name='Sheet1', index=False)"
   ]
  }
 ],
 "metadata": {
  "kernelspec": {
   "display_name": "Python 3 (ipykernel)",
   "language": "python",
   "name": "python3"
  },
  "language_info": {
   "codemirror_mode": {
    "name": "ipython",
    "version": 3
   },
   "file_extension": ".py",
   "mimetype": "text/x-python",
   "name": "python",
   "nbconvert_exporter": "python",
   "pygments_lexer": "ipython3",
   "version": "3.9.13"
  }
 },
 "nbformat": 4,
 "nbformat_minor": 5
}
