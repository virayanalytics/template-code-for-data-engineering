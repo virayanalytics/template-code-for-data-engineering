{
 "cells": [
  {
   "cell_type": "markdown",
   "id": "39f892e7",
   "metadata": {},
   "source": [
    "### Reshaping Data From Wide to Long Format Using the Melt Function"
   ]
  },
  {
   "cell_type": "code",
   "execution_count": 16,
   "id": "3c7b91b9",
   "metadata": {},
   "outputs": [],
   "source": [
    "# import library\n",
    "\n",
    "import pandas as pd"
   ]
  },
  {
   "cell_type": "code",
   "execution_count": 17,
   "id": "22196dcf",
   "metadata": {},
   "outputs": [
    {
     "name": "stdout",
     "output_type": "stream",
     "text": [
      "                  Hospital  Procedure A  Procedure B  Procedure C\n",
      "0       Healthstone Clinic         2400         6406         2000\n",
      "1  Swanlake Medical Center         1530         4020         1030\n",
      "2   Freeman Medical Clinic         3030         7402         1030\n",
      "3       Angelwing Hospital         2301         3530         8030\n"
     ]
    }
   ],
   "source": [
    "# sample data set (all data is fictitious)\n",
    "\n",
    "data = {\n",
    "    'Hospital': ['Healthstone Clinic', 'Swanlake Medical Center', 'Freeman Medical Clinic', 'Angelwing Hospital'],\n",
    "    'Procedure A': [2400, 1530, 3030, 2301],\n",
    "    'Procedure B': [6406, 4020, 7402, 3530],\n",
    "    'Procedure C': [2000, 1030, 1030, 8030]\n",
    "}\n",
    "\n",
    "df = pd.DataFrame(data)\n",
    "\n",
    "print(df)"
   ]
  },
  {
   "cell_type": "code",
   "execution_count": 18,
   "id": "badd76d5",
   "metadata": {},
   "outputs": [
    {
     "name": "stdout",
     "output_type": "stream",
     "text": [
      "                   Hospital    Procedure  Number of Patients\n",
      "0        Healthstone Clinic  Procedure A                2400\n",
      "1   Swanlake Medical Center  Procedure A                1530\n",
      "2    Freeman Medical Clinic  Procedure A                3030\n",
      "3        Angelwing Hospital  Procedure A                2301\n",
      "4        Healthstone Clinic  Procedure B                6406\n",
      "5   Swanlake Medical Center  Procedure B                4020\n",
      "6    Freeman Medical Clinic  Procedure B                7402\n",
      "7        Angelwing Hospital  Procedure B                3530\n",
      "8        Healthstone Clinic  Procedure C                2000\n",
      "9   Swanlake Medical Center  Procedure C                1030\n",
      "10   Freeman Medical Clinic  Procedure C                1030\n",
      "11       Angelwing Hospital  Procedure C                8030\n"
     ]
    }
   ],
   "source": [
    "# reshape data from wide to long format\n",
    "\n",
    "melted_df = pd.melt(df, id_vars=['Hospital'], value_vars=['Procedure A', 'Procedure B', 'Procedure C'], var_name='Procedure', value_name='Number of Patients')\n",
    "\n",
    "print(melted_df)"
   ]
  },
  {
   "cell_type": "code",
   "execution_count": 19,
   "id": "79667c27",
   "metadata": {},
   "outputs": [
    {
     "name": "stdout",
     "output_type": "stream",
     "text": [
      "                   Hospital    Procedure  Number of Patients\n",
      "3        Angelwing Hospital  Procedure A                2301\n",
      "7        Angelwing Hospital  Procedure B                3530\n",
      "11       Angelwing Hospital  Procedure C                8030\n",
      "2    Freeman Medical Clinic  Procedure A                3030\n",
      "6    Freeman Medical Clinic  Procedure B                7402\n",
      "10   Freeman Medical Clinic  Procedure C                1030\n",
      "0        Healthstone Clinic  Procedure A                2400\n",
      "4        Healthstone Clinic  Procedure B                6406\n",
      "8        Healthstone Clinic  Procedure C                2000\n",
      "1   Swanlake Medical Center  Procedure A                1530\n",
      "5   Swanlake Medical Center  Procedure B                4020\n",
      "9   Swanlake Medical Center  Procedure C                1030\n"
     ]
    }
   ],
   "source": [
    "# sort data frame by Hospital and Procedure\n",
    "\n",
    "sorted_df = melted_df.sort_values(by=['Hospital','Procedure'], ascending=True)\n",
    "\n",
    "print(sorted_df)"
   ]
  }
 ],
 "metadata": {
  "kernelspec": {
   "display_name": "Python 3 (ipykernel)",
   "language": "python",
   "name": "python3"
  },
  "language_info": {
   "codemirror_mode": {
    "name": "ipython",
    "version": 3
   },
   "file_extension": ".py",
   "mimetype": "text/x-python",
   "name": "python",
   "nbconvert_exporter": "python",
   "pygments_lexer": "ipython3",
   "version": "3.9.13"
  }
 },
 "nbformat": 4,
 "nbformat_minor": 5
}
